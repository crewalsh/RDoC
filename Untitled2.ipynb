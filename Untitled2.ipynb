{
 "cells": [
  {
   "cell_type": "code",
   "execution_count": 12,
   "metadata": {},
   "outputs": [],
   "source": [
    "import pickle\n",
    "import pandas as pd\n",
    "import numpy as np\n",
    "from scipy.io import savemat, loadmat\n",
    "from plotnine import *\n",
    "\n",
    "import matplotlib\n",
    "import matplotlib.pyplot as plt\n",
    "%matplotlib inline\n",
    "matplotlib.style.use('ggplot')"
   ]
  },
  {
   "cell_type": "code",
   "execution_count": 2,
   "metadata": {},
   "outputs": [],
   "source": [
    "f = open('data/task_rest_corr.pckl', 'rb')\n",
    "[DFR_corr, rest_corr, FPCN_submatrix_DFR, FPCN_submatrix_rest] = pickle.load(f)\n",
    "f.close()\n",
    "\n",
    "subj_list = pd.read_csv('data/fMRI_demographics.csv')\n",
    "region_list = pd.read_table('data/Schaefer2018_400Parcels_7Networks_order.txt', header=None)\n",
    "\n",
    "mat_data = loadmat('data/WSBM_output.mat')"
   ]
  },
  {
   "cell_type": "code",
   "execution_count": 8,
   "metadata": {},
   "outputs": [],
   "source": [
    "# calculate average region to region correlation\n",
    "avg_DFR_corr = np.mean(DFR_corr, axis=2)\n",
    "avg_rest_corr = np.nanmean(rest_corr, axis=2)"
   ]
  },
  {
   "cell_type": "code",
   "execution_count": 4,
   "metadata": {},
   "outputs": [],
   "source": [
    "# average over networks\n",
    "vis_idx = region_list[region_list[1].str.contains(\"Vis\")][0] - 1\n",
    "som_mot_idx = region_list[region_list[1].str.contains(\"SomMot\")][0] - 1\n",
    "DAN_idx = region_list[region_list[1].str.contains(\"DorsAttn\")][0] - 1\n",
    "VAN_idx = region_list[region_list[1].str.contains(\"SalVentAttn\")][0] - 1\n",
    "limbic_idx = region_list[region_list[1].str.contains(\"Limbic\")][0] - 1\n",
    "FPCN_idx = region_list[region_list[1].str.contains(\"Cont\")][0] - 1\n",
    "DMN_idx = region_list[region_list[1].str.contains(\"Default\")][0] - 1\n",
    "\n",
    "region_idx_list = [[vis_idx], [som_mot_idx], [DAN_idx], [VAN_idx], [limbic_idx], [FPCN_idx], [DMN_idx]]"
   ]
  },
  {
   "cell_type": "code",
   "execution_count": 9,
   "metadata": {},
   "outputs": [],
   "source": [
    "region_corr_DFR = np.zeros((7, 7))\n",
    "region_corr_DFR[:, :] = np.nan\n",
    "region_corr_rest = np.zeros((7, 7))\n",
    "region_corr_rest[:, :] = np.nan\n",
    "\n",
    "for region1 in range(7):\n",
    "    for region2 in range(7):\n",
    "        temp_data = np.squeeze(avg_DFR_corr[region_idx_list[region1], :])\n",
    "        temp_data = np.squeeze(temp_data[:, region_idx_list[region2]])\n",
    "\n",
    "        region_corr_DFR[region1,region2] = np.mean(np.mean(temp_data))\n",
    "\n",
    "        temp_data = np.squeeze(avg_rest_corr[region_idx_list[region1], :])\n",
    "        temp_data = np.squeeze(temp_data[:, region_idx_list[region2]])\n",
    "\n",
    "        region_corr_rest[region1,region2] = np.mean(np.mean(temp_data))\n",
    "\n",
    "        "
   ]
  },
  {
   "cell_type": "code",
   "execution_count": 6,
   "metadata": {},
   "outputs": [
    {
     "data": {
      "image/png": "[encoded data removed]",
      "text/plain": [
       "<Figure size 432x288 with 1 Axes>"
      ]
     },
     "metadata": {
      "needs_background": "light"
     },
     "output_type": "display_data"
    }
   ],
   "source": [
    "plt.imshow(region_corr_DFR)\n",
    "plt.show()"
   ]
  },
  {
   "cell_type": "code",
   "execution_count": 10,
   "metadata": {},
   "outputs": [
    {
     "data": {
      "image/png": "[encoded data removed]",
      "text/plain": [
       "<Figure size 432x288 with 1 Axes>"
      ]
     },
     "metadata": {
      "needs_background": "light"
     },
     "output_type": "display_data"
    }
   ],
   "source": [
    "plt.imshow(region_corr_rest)\n",
    "plt.show()"
   ]
  },
  {
   "cell_type": "code",
   "execution_count": null,
   "metadata": {},
   "outputs": [],
   "source": []
  }
 ],
 "metadata": {
  "kernelspec": {
   "display_name": "Python 3",
   "language": "python",
   "name": "python3"
  },
  "language_info": {
   "codemirror_mode": {
    "name": "ipython",
    "version": 3
   },
   "file_extension": ".py",
   "mimetype": "text/x-python",
   "name": "python",
   "nbconvert_exporter": "python",
   "pygments_lexer": "ipython3",
   "version": "3.7.3"
  }
 },
 "nbformat": 4,
 "nbformat_minor": 2
}
